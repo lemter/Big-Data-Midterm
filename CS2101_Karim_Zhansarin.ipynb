{
 "cells": [
  {
   "cell_type": "markdown",
   "id": "894cb0d1-f422-4ca9-ae02-fe231ccc9b3e",
   "metadata": {},
   "source": [
    "# Big Data in Law Enforcement"
   ]
  },
  {
   "cell_type": "markdown",
   "id": "535be0ac-6d4d-495d-a591-3a6e7c19449d",
   "metadata": {},
   "source": [
    "## Introduction"
   ]
  },
  {
   "cell_type": "markdown",
   "id": "c5708015-40b0-49fe-b096-34ff70c18a55",
   "metadata": {},
   "source": [
    "Big data refers to the vast and complex sets of information that are too large to be effectively processed and analyzed using traditional data management and analysis tools. It encompasses a wide range of data sources and formats, presenting opportunities for valuable insights when properly harnessed."
   ]
  },
  {
   "cell_type": "markdown",
   "id": "8d2a2bd6-dc95-415f-b8ca-765a623a122e",
   "metadata": {},
   "source": [
    "**Objectives**\n",
    "- List of popular languages in Data Scince\n",
    "- List of commonly used libraries in Data Scince\n",
    "- Table with Data Science Tools\n",
    "- Few arithmetic expressions in Python"
   ]
  },
  {
   "cell_type": "markdown",
   "id": "fdfcd8fa-d64b-4b78-aa71-f8fa46bf3cf7",
   "metadata": {},
   "source": [
    "*Some of the popular languages that Data Scientists use are:*\n",
    "1. Python\n",
    "2. Scala\n",
    "3. Java\n",
    "4. C++"
   ]
  },
  {
   "cell_type": "markdown",
   "id": "4d8496b7-fe76-425d-b810-82eab472301f",
   "metadata": {},
   "source": [
    "*Some of the commonly used libraries used by Data Scientist include:*\n",
    "- MatPlotLib (Python)\n",
    "- NumPY (Python)\n",
    "- Pandas (Python)\n",
    "- Seaborn (Python)\n",
    "- SciPY (Python)"
   ]
  },
  {
   "cell_type": "markdown",
   "id": "44ea13c6-043e-4288-be3a-e4889268e459",
   "metadata": {},
   "source": [
    "| Data Science Tools |\n",
    "|---|\n",
    "| Visual Studio Code |\n",
    "| JetBrains PyCharm |\n",
    "| Jupyter Notebook |"
   ]
  },
  {
   "cell_type": "markdown",
   "id": "7969cf8c-43ab-4b88-99e5-bc069ccb7797",
   "metadata": {},
   "source": [
    "### Below are a few examples of evaluating arithmetic expressions in Python."
   ]
  },
  {
   "cell_type": "code",
   "execution_count": 4,
   "id": "4d7e6cf6-4465-4256-b8d9-501ccf6c5e4e",
   "metadata": {},
   "outputs": [
    {
     "data": {
      "text/plain": [
       "33"
      ]
     },
     "execution_count": 4,
     "metadata": {},
     "output_type": "execute_result"
    }
   ],
   "source": [
    "# This is a simple arithmetic expression where first [4 * 6 = 24] and then [24 + 9 = 33]\n",
    "(4*6)+9"
   ]
  },
  {
   "cell_type": "code",
   "execution_count": 5,
   "id": "d5745f8f-3111-4902-ad3d-43bbba0f6ea9",
   "metadata": {},
   "outputs": [
    {
     "data": {
      "text/plain": [
       "5.0"
      ]
     },
     "execution_count": 5,
     "metadata": {},
     "output_type": "execute_result"
    }
   ],
   "source": [
    "# This will convert 300 minutes to hours by dividing by 60.\n",
    "300/60"
   ]
  },
  {
   "cell_type": "markdown",
   "id": "8d4f6452-445c-426c-a4d2-89bd20ff665a",
   "metadata": {},
   "source": [
    "## Author: Karim Zhansarin"
   ]
  }
 ],
 "metadata": {
  "kernelspec": {
   "display_name": "Python 3 (ipykernel)",
   "language": "python",
   "name": "python3"
  },
  "language_info": {
   "codemirror_mode": {
    "name": "ipython",
    "version": 3
   },
   "file_extension": ".py",
   "mimetype": "text/x-python",
   "name": "python",
   "nbconvert_exporter": "python",
   "pygments_lexer": "ipython3",
   "version": "3.11.0"
  }
 },
 "nbformat": 4,
 "nbformat_minor": 5
}
